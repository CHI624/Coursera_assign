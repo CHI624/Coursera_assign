{
  "metadata": {
    "kernelspec": {
      "name": "python",
      "display_name": "Python (Pyodide)",
      "language": "python"
    },
    "language_info": {
      "codemirror_mode": {
        "name": "python",
        "version": 3
      },
      "file_extension": ".py",
      "mimetype": "text/x-python",
      "name": "python",
      "nbconvert_exporter": "python",
      "pygments_lexer": "ipython3",
      "version": "3.8"
    }
  },
  "nbformat_minor": 5,
  "nbformat": 4,
  "cells": [
    {
      "id": "1f18b4d9-613d-4e27-98a0-e60e70a2ce91",
      "cell_type": "markdown",
      "source": "# Data Science Tools and Ecosystem",
      "metadata": {}
    },
    {
      "id": "e58265e9-3a6d-43a9-9ec6-7581874e9bf7",
      "cell_type": "markdown",
      "source": "In this notebook, Data Science Tools and Ecosystem are summarized.",
      "metadata": {}
    },
    {
      "id": "b54d0c43-c88a-4f91-924a-3d93bf6b6d7f",
      "cell_type": "markdown",
      "source": "## Objectives: ##\n* Creating Headers\n* Evaluating Arithmetic Expressions\n* Creating Comments\n* Going over commonly used libraries\n* Printing Expressions",
      "metadata": {}
    },
    {
      "id": "ff81752f-30fb-40e7-ac5c-7f7d52dfe7b7",
      "cell_type": "markdown",
      "source": "Some of the popular languages that Data Scientists use are:\n\n1. Python\n2. Java\n3. C++\n4. C\n5. R",
      "metadata": {}
    },
    {
      "id": "a81981fe-2bd5-4744-ad02-f113d3d78cf2",
      "cell_type": "markdown",
      "source": "Some of the commonly used libraries used by Data Scientists Include:\n\n1. NumPY\n2. Pandas\n3. Matplotlib\n4. Seaborn\n5. Scikit-Learn",
      "metadata": {}
    },
    {
      "id": "0b47cf98-18e2-4c3d-a50e-6242d18392fb",
      "cell_type": "markdown",
      "source": "|Data Science Tools|\n|-------------------|\n|Apache Hadoop|\n|Apache Spark|\n|R Studio|\n|PyTorch|\n|Jupyter Lab|",
      "metadata": {}
    },
    {
      "id": "01b38d92-24fa-4abf-8dc7-f9e2f340e21e",
      "cell_type": "markdown",
      "source": "### Below are a few examples of evaluating arithmetic expressions in Python.",
      "metadata": {}
    },
    {
      "id": "0db21b41-429c-4798-ac02-dd5f246e7e08",
      "cell_type": "markdown",
      "source": "This is a simple arithmetic expression to multiply then add integers.",
      "metadata": {}
    },
    {
      "id": "9df461f3-cff1-4251-a0d1-6ca44180d443",
      "cell_type": "code",
      "source": "(3*4)+5",
      "metadata": {
        "trusted": true
      },
      "outputs": [
        {
          "execution_count": 6,
          "output_type": "execute_result",
          "data": {
            "text/plain": "17"
          },
          "metadata": {}
        }
      ],
      "execution_count": 6
    },
    {
      "id": "6081a51a-09ff-44cb-bb00-41387972ffb1",
      "cell_type": "markdown",
      "source": "This will convert 200 minutes to hours by dividing by 60",
      "metadata": {}
    },
    {
      "id": "74a32a21-a5c2-4f90-a85d-0a6c4d3578fe",
      "cell_type": "code",
      "source": "minutes = 200\nh = 60\nhours= minutes/h \nprint(hours)",
      "metadata": {
        "trusted": true
      },
      "outputs": [
        {
          "name": "stdout",
          "output_type": "stream",
          "text": "3.3333333333333335\n"
        }
      ],
      "execution_count": 12
    },
    {
      "id": "27629d7c-b48c-47dc-93b0-f7af151d9fe7",
      "cell_type": "markdown",
      "source": "Author:\n## VICTOR AGBARA",
      "metadata": {}
    },
    {
      "id": "de40b7dd-ddac-48a6-bb84-a7e80dd8b2aa",
      "cell_type": "code",
      "source": "",
      "metadata": {
        "trusted": true
      },
      "outputs": [],
      "execution_count": null
    }
  ]
}